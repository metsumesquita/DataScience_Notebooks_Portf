{
  "nbformat": 4,
  "nbformat_minor": 0,
  "metadata": {
    "colab": {
      "provenance": [],
      "mount_file_id": "1evIll2BgYWdbK3f0-7sGLuS9CnL5y-Bh",
      "authorship_tag": "ABX9TyOSNSgHM/iNfRIBCiBJDluz",
      "include_colab_link": true
    },
    "kernelspec": {
      "name": "python3",
      "display_name": "Python 3"
    },
    "language_info": {
      "name": "python"
    }
  },
  "cells": [
    {
      "cell_type": "markdown",
      "metadata": {
        "id": "view-in-github",
        "colab_type": "text"
      },
      "source": [
        "<a href=\"https://colab.research.google.com/github/metsumesquita/kaggle-colab-jupyter/blob/main/Estatistica.ipynb\" target=\"_parent\"><img src=\"https://colab.research.google.com/assets/colab-badge.svg\" alt=\"Open In Colab\"/></a>"
      ]
    },
    {
      "cell_type": "markdown",
      "metadata": {
        "id": "R1i8VDJt-XVS"
      },
      "source": [
        "inicio\n"
      ]
    },
    {
      "cell_type": "code",
      "metadata": {
        "id": "pr2uV0qMTnJ4"
      },
      "source": [
        "from scipy.stats import skew\n",
        "import pandas as pd\n",
        "import seaborn as sns\n",
        "import matplotlib.pyplot as plt\n",
        "import numpy as np\n"
      ],
      "execution_count": null,
      "outputs": []
    },
    {
      "cell_type": "code",
      "metadata": {
        "id": "CUt6o_9jrPkI",
        "colab": {
          "base_uri": "https://localhost:8080/",
          "height": 1000
        },
        "outputId": "f7940556-9219-4153-8287-d891a9ea50cf"
      },
      "source": [
        "\n",
        "data= pd.read_csv(\"books.csv\")\n",
        "display(data)"
      ],
      "execution_count": null,
      "outputs": [
        {
          "output_type": "display_data",
          "data": {
            "text/html": [
              "<div>\n",
              "<style scoped>\n",
              "    .dataframe tbody tr th:only-of-type {\n",
              "        vertical-align: middle;\n",
              "    }\n",
              "\n",
              "    .dataframe tbody tr th {\n",
              "        vertical-align: top;\n",
              "    }\n",
              "\n",
              "    .dataframe thead th {\n",
              "        text-align: right;\n",
              "    }\n",
              "</style>\n",
              "<table border=\"1\" class=\"dataframe\">\n",
              "  <thead>\n",
              "    <tr style=\"text-align: right;\">\n",
              "      <th></th>\n",
              "      <th>isbn13</th>\n",
              "      <th>isbn10</th>\n",
              "      <th>title</th>\n",
              "      <th>subtitle</th>\n",
              "      <th>authors</th>\n",
              "      <th>categories</th>\n",
              "      <th>thumbnail</th>\n",
              "      <th>description</th>\n",
              "      <th>published_year</th>\n",
              "      <th>average_rating</th>\n",
              "      <th>num_pages</th>\n",
              "      <th>ratings_count</th>\n",
              "    </tr>\n",
              "  </thead>\n",
              "  <tbody>\n",
              "    <tr>\n",
              "      <th>0</th>\n",
              "      <td>9780002005883</td>\n",
              "      <td>0002005883</td>\n",
              "      <td>Gilead</td>\n",
              "      <td>NaN</td>\n",
              "      <td>Marilynne Robinson</td>\n",
              "      <td>Fiction</td>\n",
              "      <td>http://books.google.com/books/content?id=KQZCP...</td>\n",
              "      <td>A NOVEL THAT READERS and critics have been eag...</td>\n",
              "      <td>2004.0</td>\n",
              "      <td>3.85</td>\n",
              "      <td>247.0</td>\n",
              "      <td>361.0</td>\n",
              "    </tr>\n",
              "    <tr>\n",
              "      <th>1</th>\n",
              "      <td>9780002261982</td>\n",
              "      <td>0002261987</td>\n",
              "      <td>Spider's Web</td>\n",
              "      <td>A Novel</td>\n",
              "      <td>Charles Osborne;Agatha Christie</td>\n",
              "      <td>Detective and mystery stories</td>\n",
              "      <td>http://books.google.com/books/content?id=gA5GP...</td>\n",
              "      <td>A new 'Christie for Christmas' -- a full-lengt...</td>\n",
              "      <td>2000.0</td>\n",
              "      <td>3.83</td>\n",
              "      <td>241.0</td>\n",
              "      <td>5164.0</td>\n",
              "    </tr>\n",
              "    <tr>\n",
              "      <th>2</th>\n",
              "      <td>9780006163831</td>\n",
              "      <td>0006163831</td>\n",
              "      <td>The One Tree</td>\n",
              "      <td>NaN</td>\n",
              "      <td>Stephen R. Donaldson</td>\n",
              "      <td>American fiction</td>\n",
              "      <td>http://books.google.com/books/content?id=OmQaw...</td>\n",
              "      <td>Volume Two of Stephen Donaldson's acclaimed se...</td>\n",
              "      <td>1982.0</td>\n",
              "      <td>3.97</td>\n",
              "      <td>479.0</td>\n",
              "      <td>172.0</td>\n",
              "    </tr>\n",
              "    <tr>\n",
              "      <th>3</th>\n",
              "      <td>9780006178736</td>\n",
              "      <td>0006178731</td>\n",
              "      <td>Rage of angels</td>\n",
              "      <td>NaN</td>\n",
              "      <td>Sidney Sheldon</td>\n",
              "      <td>Fiction</td>\n",
              "      <td>http://books.google.com/books/content?id=FKo2T...</td>\n",
              "      <td>A memorable, mesmerizing heroine Jennifer -- b...</td>\n",
              "      <td>1993.0</td>\n",
              "      <td>3.93</td>\n",
              "      <td>512.0</td>\n",
              "      <td>29532.0</td>\n",
              "    </tr>\n",
              "    <tr>\n",
              "      <th>4</th>\n",
              "      <td>9780006280897</td>\n",
              "      <td>0006280897</td>\n",
              "      <td>The Four Loves</td>\n",
              "      <td>NaN</td>\n",
              "      <td>Clive Staples Lewis</td>\n",
              "      <td>Christian life</td>\n",
              "      <td>http://books.google.com/books/content?id=XhQ5X...</td>\n",
              "      <td>Lewis' work on the nature of love divides love...</td>\n",
              "      <td>2002.0</td>\n",
              "      <td>4.15</td>\n",
              "      <td>170.0</td>\n",
              "      <td>33684.0</td>\n",
              "    </tr>\n",
              "    <tr>\n",
              "      <th>...</th>\n",
              "      <td>...</td>\n",
              "      <td>...</td>\n",
              "      <td>...</td>\n",
              "      <td>...</td>\n",
              "      <td>...</td>\n",
              "      <td>...</td>\n",
              "      <td>...</td>\n",
              "      <td>...</td>\n",
              "      <td>...</td>\n",
              "      <td>...</td>\n",
              "      <td>...</td>\n",
              "      <td>...</td>\n",
              "    </tr>\n",
              "    <tr>\n",
              "      <th>1503</th>\n",
              "      <td>9780312300333</td>\n",
              "      <td>0312300336</td>\n",
              "      <td>Banvard's Folly</td>\n",
              "      <td>Thirteen Tales of People Who Didn't Change the...</td>\n",
              "      <td>Paul Collins</td>\n",
              "      <td>History</td>\n",
              "      <td>http://books.google.com/books/content?id=MSv6w...</td>\n",
              "      <td>The historical record crowns success. Those en...</td>\n",
              "      <td>2002.0</td>\n",
              "      <td>3.97</td>\n",
              "      <td>320.0</td>\n",
              "      <td>498.0</td>\n",
              "    </tr>\n",
              "    <tr>\n",
              "      <th>1504</th>\n",
              "      <td>9780312300531</td>\n",
              "      <td>0312300530</td>\n",
              "      <td>The Last Jew</td>\n",
              "      <td>A Novel of The Spanish Inquisition</td>\n",
              "      <td>Noah Gordon</td>\n",
              "      <td>Fiction</td>\n",
              "      <td>http://books.google.com/books/content?id=rUydl...</td>\n",
              "      <td>In the year 1492, the Inquisition has all of S...</td>\n",
              "      <td>1992.0</td>\n",
              "      <td>4.08</td>\n",
              "      <td>352.0</td>\n",
              "      <td>4119.0</td>\n",
              "    </tr>\n",
              "    <tr>\n",
              "      <th>1505</th>\n",
              "      <td>9780312304461</td>\n",
              "      <td>0312304463</td>\n",
              "      <td>How to Write a Damn Good Mystery</td>\n",
              "      <td>A Practical Step-by-Step Guide from Inspiratio...</td>\n",
              "      <td>James N. Frey</td>\n",
              "      <td>Language Arts &amp; Disciplines</td>\n",
              "      <td>http://books.google.com/books/content?id=X47rm...</td>\n",
              "      <td>Edgar award nominee James N. Frey, author of t...</td>\n",
              "      <td>2004.0</td>\n",
              "      <td>3.97</td>\n",
              "      <td>288.0</td>\n",
              "      <td>305.0</td>\n",
              "    </tr>\n",
              "    <tr>\n",
              "      <th>1506</th>\n",
              "      <td>9780312306182</td>\n",
              "      <td>0312306180</td>\n",
              "      <td>Jenny and the Jaws of Life</td>\n",
              "      <td>Short Stories</td>\n",
              "      <td>Jincy Willett</td>\n",
              "      <td>Fiction</td>\n",
              "      <td>http://books.google.com/books/content?id=7a-81...</td>\n",
              "      <td>A collection of stories about children, rapist...</td>\n",
              "      <td>2002.0</td>\n",
              "      <td>3.74</td>\n",
              "      <td>272.0</td>\n",
              "      <td>1285.0</td>\n",
              "    </tr>\n",
              "    <tr>\n",
              "      <th>1507</th>\n",
              "      <td>9780312306342</td>\n",
              "      <td>0312306342</td>\n",
              "      <td>Plum Lovin'</td>\n",
              "      <td>NaN</td>\n",
              "      <td>Janet Evanovich</td>\n",
              "      <td>Fiction</td>\n",
              "      <td>http://books.google.com/books/content?id=f4K5Q...</td>\n",
              "      <td>NaN</td>\n",
              "      <td>NaN</td>\n",
              "      <td>NaN</td>\n",
              "      <td>NaN</td>\n",
              "      <td>NaN</td>\n",
              "    </tr>\n",
              "  </tbody>\n",
              "</table>\n",
              "<p>1508 rows × 12 columns</p>\n",
              "</div>"
            ],
            "text/plain": [
              "             isbn13      isbn10  ... num_pages ratings_count\n",
              "0     9780002005883  0002005883  ...     247.0         361.0\n",
              "1     9780002261982  0002261987  ...     241.0        5164.0\n",
              "2     9780006163831  0006163831  ...     479.0         172.0\n",
              "3     9780006178736  0006178731  ...     512.0       29532.0\n",
              "4     9780006280897  0006280897  ...     170.0       33684.0\n",
              "...             ...         ...  ...       ...           ...\n",
              "1503  9780312300333  0312300336  ...     320.0         498.0\n",
              "1504  9780312300531  0312300530  ...     352.0        4119.0\n",
              "1505  9780312304461  0312304463  ...     288.0         305.0\n",
              "1506  9780312306182  0312306180  ...     272.0        1285.0\n",
              "1507  9780312306342  0312306342  ...       NaN           NaN\n",
              "\n",
              "[1508 rows x 12 columns]"
            ]
          },
          "metadata": {}
        }
      ]
    },
    {
      "cell_type": "markdown",
      "metadata": {
        "id": "B-3d8IKH-C2B"
      },
      "source": [
        "###retirada da isbn13\tisbn10\n"
      ]
    },
    {
      "cell_type": "code",
      "metadata": {
        "id": "St-4PwpW9tFS"
      },
      "source": [
        "data_clear = data.drop([\"isbn13\", \"isbn10\",\"thumbnail\",\t\"title\",\"subtitle\",\"description\"], axis=1)\n",
        "display(data_clear)\n",
        "###com valores em branco//NaN"
      ],
      "execution_count": null,
      "outputs": []
    },
    {
      "cell_type": "code",
      "metadata": {
        "id": "UjDWXqbGXz50"
      },
      "source": [
        "###retirada dos NaN\n",
        "data_clear=data_clear.dropna()\n",
        "data_clear.info();"
      ],
      "execution_count": null,
      "outputs": []
    },
    {
      "cell_type": "code",
      "metadata": {
        "id": "iyqgQrL9aW8Z"
      },
      "source": [
        "###livro categorias\n",
        "categories=['Fiction','History','Religion','Drama','Philosopliy','Science','Poetry']\n",
        "listofcategories=[]\n",
        "for categorie in categories:\n",
        "   listofcategories=data_clear['categories'][data_clear['categories']== categorie].count()\n",
        ""
      ],
      "execution_count": null,
      "outputs": []
    },
    {
      "cell_type": "code",
      "metadata": {
        "colab": {
          "base_uri": "https://localhost:8080/",
          "height": 197
        },
        "id": "bDqku9pW-d6v",
        "outputId": "aa47b8b5-e268-43b9-99cc-7619471d3a21"
      },
      "source": [
        "###numero de paginas no ano de 2005\n",
        "mediaSerieAR=data_clear['num_pages'] [data_clear['published_year']==2005].mean()\n",
        "mediaSerieAR\n"
      ],
      "execution_count": null,
      "outputs": [
        {
          "output_type": "error",
          "ename": "NameError",
          "evalue": "ignored",
          "traceback": [
            "\u001b[0;31m---------------------------------------------------------------------------\u001b[0m",
            "\u001b[0;31mNameError\u001b[0m                                 Traceback (most recent call last)",
            "\u001b[0;32m<ipython-input-1-e11d4fa9308c>\u001b[0m in \u001b[0;36m<module>\u001b[0;34m()\u001b[0m\n\u001b[1;32m      1\u001b[0m \u001b[0;31m###numero de paginas no ano de 2005\u001b[0m\u001b[0;34m\u001b[0m\u001b[0;34m\u001b[0m\u001b[0;34m\u001b[0m\u001b[0m\n\u001b[0;32m----> 2\u001b[0;31m \u001b[0mmediaSerieAR\u001b[0m\u001b[0;34m=\u001b[0m\u001b[0mdata_clear\u001b[0m\u001b[0;34m[\u001b[0m\u001b[0;34m'num_pages'\u001b[0m\u001b[0;34m]\u001b[0m \u001b[0;34m[\u001b[0m\u001b[0mdata_clear\u001b[0m\u001b[0;34m[\u001b[0m\u001b[0;34m'published_year'\u001b[0m\u001b[0;34m]\u001b[0m\u001b[0;34m==\u001b[0m\u001b[0;36m2005\u001b[0m\u001b[0;34m]\u001b[0m\u001b[0;34m.\u001b[0m\u001b[0mmean\u001b[0m\u001b[0;34m(\u001b[0m\u001b[0;34m)\u001b[0m\u001b[0;34m\u001b[0m\u001b[0;34m\u001b[0m\u001b[0m\n\u001b[0m\u001b[1;32m      3\u001b[0m \u001b[0mmediaSerieAR\u001b[0m\u001b[0;34m\u001b[0m\u001b[0;34m\u001b[0m\u001b[0m\n",
            "\u001b[0;31mNameError\u001b[0m: name 'data_clear' is not defined"
          ]
        }
      ]
    },
    {
      "cell_type": "code",
      "metadata": {
        "id": "ev49kXHp_sDv"
      },
      "source": [
        "list_year=[1990,1995,2000,2005,2010,2015]\n",
        "list_med=[]\n"
      ],
      "execution_count": null,
      "outputs": []
    }
  ]
}